{
  "nbformat": 4,
  "nbformat_minor": 0,
  "metadata": {
    "colab": {
      "name": "Recommedation Movie.ipynb",
      "provenance": [],
      "authorship_tag": "ABX9TyOjvzuwcgsVDmLCtWAS2EuP",
      "include_colab_link": true
    },
    "kernelspec": {
      "name": "python3",
      "display_name": "Python 3"
    }
  },
  "cells": [
    {
      "cell_type": "markdown",
      "metadata": {
        "id": "view-in-github",
        "colab_type": "text"
      },
      "source": [
        "<a href=\"https://colab.research.google.com/github/junanda/collaborative-filtering/blob/main/Recommedation_Movie.ipynb\" target=\"_parent\"><img src=\"https://colab.research.google.com/assets/colab-badge.svg\" alt=\"Open In Colab\"/></a>"
      ]
    },
    {
      "cell_type": "markdown",
      "metadata": {
        "id": "D159__jHzV9e"
      },
      "source": [
        "# **Recommendation Movie using Collaborative Filtering**"
      ]
    },
    {
      "cell_type": "code",
      "metadata": {
        "id": "hndmkYtAzvm9"
      },
      "source": [
        "import pandas as pd\n",
        "import numpy as np\n",
        "import matplotlib.pyplot as plt\n",
        "import tensorflow as tf\n",
        "from zipfile import ZipFile\n",
        "from tensorflow import keras\n",
        "from tensorflow.keras import layers\n",
        "from pathlib import Path"
      ],
      "execution_count": 1,
      "outputs": []
    },
    {
      "cell_type": "markdown",
      "metadata": {
        "id": "WuwpaG7h1keW"
      },
      "source": [
        "Load data"
      ]
    },
    {
      "cell_type": "code",
      "metadata": {
        "id": "T7zx03qV1I8z",
        "outputId": "0d9a8c07-8bfd-411b-9425-00dde9dd2574",
        "colab": {
          "base_uri": "https://localhost:8080/",
          "height": 85
        }
      },
      "source": [
        "movie_file_url = (\"http://files.grouplens.org/datasets/movielens/ml-latest-small.zip\")\n",
        "movie_zipped_file = keras.utils.get_file(\"ml-latest-small.zip\", movie_file_url, extract=False)\n",
        "keras_datasets_path = Path(movie_zipped_file).parents[0]\n",
        "movie_dir = keras_datasets_path / \"ml-latest-small\"\n",
        "\n",
        "# Only extract teh data the first time the script in run.\n",
        "if not movie_dir.exists():\n",
        "    with ZipFile(movie_zipped_file, \"r\") as zip:\n",
        "        print(\"Extracting all the files now...\")\n",
        "        zip.extractall(path=keras_datasets_path)\n",
        "        print(\"Done......\")\n",
        "\n",
        "ratings_file = movie_dir / \"ratings.csv\"\n",
        "\n",
        "df_data = pd.read_csv(ratings_file)"
      ],
      "execution_count": 2,
      "outputs": [
        {
          "output_type": "stream",
          "text": [
            "Downloading data from http://files.grouplens.org/datasets/movielens/ml-latest-small.zip\n",
            "983040/978202 [==============================] - 1s 1us/step\n",
            "Extracting all the files now...\n",
            "Done......\n"
          ],
          "name": "stdout"
        }
      ]
    },
    {
      "cell_type": "code",
      "metadata": {
        "id": "6WPzbHTFkAE7",
        "outputId": "93a3609c-e6f3-4084-ce74-aa25d067395d",
        "colab": {
          "base_uri": "https://localhost:8080/",
          "height": 204
        }
      },
      "source": [
        "df_data.head()"
      ],
      "execution_count": 19,
      "outputs": [
        {
          "output_type": "execute_result",
          "data": {
            "text/html": [
              "<div>\n",
              "<style scoped>\n",
              "    .dataframe tbody tr th:only-of-type {\n",
              "        vertical-align: middle;\n",
              "    }\n",
              "\n",
              "    .dataframe tbody tr th {\n",
              "        vertical-align: top;\n",
              "    }\n",
              "\n",
              "    .dataframe thead th {\n",
              "        text-align: right;\n",
              "    }\n",
              "</style>\n",
              "<table border=\"1\" class=\"dataframe\">\n",
              "  <thead>\n",
              "    <tr style=\"text-align: right;\">\n",
              "      <th></th>\n",
              "      <th>userId</th>\n",
              "      <th>movieId</th>\n",
              "      <th>rating</th>\n",
              "      <th>timestamp</th>\n",
              "      <th>user</th>\n",
              "      <th>movie</th>\n",
              "    </tr>\n",
              "  </thead>\n",
              "  <tbody>\n",
              "    <tr>\n",
              "      <th>66674</th>\n",
              "      <td>429</td>\n",
              "      <td>195</td>\n",
              "      <td>4.0</td>\n",
              "      <td>828124616</td>\n",
              "      <td>428</td>\n",
              "      <td>543</td>\n",
              "    </tr>\n",
              "    <tr>\n",
              "      <th>79937</th>\n",
              "      <td>500</td>\n",
              "      <td>1148</td>\n",
              "      <td>4.0</td>\n",
              "      <td>1005528205</td>\n",
              "      <td>499</td>\n",
              "      <td>1099</td>\n",
              "    </tr>\n",
              "    <tr>\n",
              "      <th>98086</th>\n",
              "      <td>606</td>\n",
              "      <td>5614</td>\n",
              "      <td>4.5</td>\n",
              "      <td>1171404629</td>\n",
              "      <td>605</td>\n",
              "      <td>9463</td>\n",
              "    </tr>\n",
              "    <tr>\n",
              "      <th>53636</th>\n",
              "      <td>354</td>\n",
              "      <td>1214</td>\n",
              "      <td>4.0</td>\n",
              "      <td>1200870323</td>\n",
              "      <td>353</td>\n",
              "      <td>75</td>\n",
              "    </tr>\n",
              "    <tr>\n",
              "      <th>42812</th>\n",
              "      <td>288</td>\n",
              "      <td>3672</td>\n",
              "      <td>3.0</td>\n",
              "      <td>978468053</td>\n",
              "      <td>287</td>\n",
              "      <td>6001</td>\n",
              "    </tr>\n",
              "  </tbody>\n",
              "</table>\n",
              "</div>"
            ],
            "text/plain": [
              "       userId  movieId  rating   timestamp  user  movie\n",
              "66674     429      195     4.0   828124616   428    543\n",
              "79937     500     1148     4.0  1005528205   499   1099\n",
              "98086     606     5614     4.5  1171404629   605   9463\n",
              "53636     354     1214     4.0  1200870323   353     75\n",
              "42812     288     3672     3.0   978468053   287   6001"
            ]
          },
          "metadata": {
            "tags": []
          },
          "execution_count": 19
        }
      ]
    },
    {
      "cell_type": "markdown",
      "metadata": {
        "id": "y4wlfWZF3l41"
      },
      "source": [
        "Preprocessing to encode users and movies as integer indices"
      ]
    },
    {
      "cell_type": "code",
      "metadata": {
        "id": "SJhee-8d3tW3",
        "outputId": "b9ca7013-e460-47cb-ce32-65d438d739db",
        "colab": {
          "base_uri": "https://localhost:8080/",
          "height": 34
        }
      },
      "source": [
        "user_ids = df_data[\"userId\"].unique().tolist()\n",
        "user2user_encoded = {x: i for i, x in enumerate(user_ids)}\n",
        "user_encoded2user = {i: x for i, x in enumerate(user_ids)}\n",
        "\n",
        "movie_ids = df_data[\"movieId\"].unique().tolist()\n",
        "movie2movie_encoded = {x: i for i, x in enumerate(movie_ids)}\n",
        "movie_encoded2movie = {i: x for i, x in enumerate(movie_ids)}\n",
        "\n",
        "df_data[\"user\"] = df_data[\"userId\"].map(user2user_encoded)\n",
        "df_data[\"movie\"] = df_data[\"movieId\"].map(movie2movie_encoded)\n",
        "\n",
        "num_users = len(user2user_encoded)\n",
        "num_movies = len(movie_encoded2movie)\n",
        "df_data[\"rating\"] = df_data[\"rating\"].values.astype(np.float32)\n",
        "\n",
        "min_rating = min(df_data[\"rating\"])\n",
        "max_rating = max(df_data[\"rating\"])\n",
        "\n",
        "print(\"Number of users: {}, Number of Movies: {}, Min rating: {}, Max rating: {}\".format(num_users, num_movies, min_rating, max_rating))"
      ],
      "execution_count": 3,
      "outputs": [
        {
          "output_type": "stream",
          "text": [
            "Number of users: 610, Number of Movies: 9724, Min rating: 0.5, Max rating: 5.0\n"
          ],
          "name": "stdout"
        }
      ]
    },
    {
      "cell_type": "markdown",
      "metadata": {
        "id": "m595-4VR6MN9"
      },
      "source": [
        "Prepare data training and validation"
      ]
    },
    {
      "cell_type": "code",
      "metadata": {
        "id": "lYCrdCNc6FH6"
      },
      "source": [
        "df_data = df_data.sample(frac=1, random_state=42)\n",
        "x = df_data[[\"user\", \"movie\"]].values\n",
        "# Normalize the targets between 0 and 1\n",
        "y = df_data[\"rating\"].apply(lambda x: (x - min_rating) / (max_rating - min_rating)).values\n",
        "# training 80% and validation 20%\n",
        "train_indices = int(0.8 * df_data.shape[0])\n",
        "x_train, x_val, y_train, y_val = (\n",
        "    x[:train_indices],\n",
        "    x[train_indices:],\n",
        "    y[:train_indices],\n",
        "    y[train_indices:]\n",
        ")"
      ],
      "execution_count": 6,
      "outputs": []
    },
    {
      "cell_type": "markdown",
      "metadata": {
        "id": "c-voewUb737a"
      },
      "source": [
        "# Create Model\n",
        " embbed both users and movies in to 50-dimentional vectors\n",
        "\n",
        " The model computes a match score between user and movie embeddings via a dot product, and adds a per-movie and per-user bias. The match score is scaled to the [0, 1] interval via a sigmoid (since our ratings are normalized to this range)."
      ]
    },
    {
      "cell_type": "code",
      "metadata": {
        "id": "Sfubk6ZV8V4h"
      },
      "source": [
        "EMBEDDING_SIZE = 50\n",
        "\n",
        "class Recommender(keras.Model):\n",
        "    def __init__(self, num_users, num_movies, embedding_size, **kwargs):\n",
        "        super(Recommender, self).__init__(**kwargs)\n",
        "        self.num_users = num_users\n",
        "        self.num_movies = num_movies\n",
        "        self.embedding_size = embedding_size\n",
        "        self.user_embedding = layers.Embedding(\n",
        "            num_users, embedding_size, embeddings_initializer=\"he_normal\",\n",
        "            embeddings_regularizer=keras.regularizers.l2(1e-6),\n",
        "        )\n",
        "        self.user_bias = layers.Embedding(num_users, 1)\n",
        "        self.movie_embedding = layers.Embedding(\n",
        "            num_movies,\n",
        "            embedding_size,\n",
        "            embeddings_initializer=\"he_normal\",\n",
        "            embeddings_regularizer=keras.regularizers.l2(1e-6),\n",
        "        )\n",
        "        self.movie_bias = layers.Embedding(num_movies, 1)\n",
        "    \n",
        "    def call(self, inputs):\n",
        "        user_vector = self.user_embedding(inputs[:, 0])\n",
        "        user_bias = self.user_bias(inputs[:, 0])\n",
        "        movie_vector = self.movie_embedding(inputs[:, 1])\n",
        "        movie_bias = self.movie_bias(inputs[:, 1])\n",
        "        dot_user_movie = tf.tensordot(user_vector, movie_vector, 2)\n",
        "        # add all components include (including bias)\n",
        "        x = dot_user_movie + user_bias + movie_bias\n",
        "        # sigmoid activation forces the rating to between 0 and 1\n",
        "        return tf.nn.sigmoid(x)"
      ],
      "execution_count": 12,
      "outputs": []
    },
    {
      "cell_type": "code",
      "metadata": {
        "id": "FtV88HdMbcFg"
      },
      "source": [
        "model = Recommender(num_users, num_movies, EMBEDDING_SIZE)\n",
        "model.compile(\n",
        "    loss=tf.keras.losses.BinaryCrossentropy(), optimizer=keras.optimizers.Adam(lr=0.001)\n",
        ")"
      ],
      "execution_count": 13,
      "outputs": []
    },
    {
      "cell_type": "markdown",
      "metadata": {
        "id": "HBSUoiQyb6Iv"
      },
      "source": [
        "Train the model based on the data split"
      ]
    },
    {
      "cell_type": "code",
      "metadata": {
        "id": "45UnMxNcb3xG",
        "outputId": "90d7cd9d-6e75-4f4f-83f5-da7106c2e437",
        "colab": {
          "base_uri": "https://localhost:8080/",
          "height": 187
        }
      },
      "source": [
        "resultx = model.fit(\n",
        "    x=x_train,\n",
        "    y=y_train,\n",
        "    batch_size=64,\n",
        "    epochs=5,\n",
        "    verbose=1,\n",
        "    validation_data=(x_val, y_val),\n",
        ")"
      ],
      "execution_count": 32,
      "outputs": [
        {
          "output_type": "stream",
          "text": [
            "Epoch 1/5\n",
            "1261/1261 [==============================] - 6s 5ms/step - loss: 0.6070 - val_loss: 0.6154\n",
            "Epoch 2/5\n",
            "1261/1261 [==============================] - 6s 5ms/step - loss: 0.6053 - val_loss: 0.6162\n",
            "Epoch 3/5\n",
            "1261/1261 [==============================] - 6s 5ms/step - loss: 0.6072 - val_loss: 0.6168\n",
            "Epoch 4/5\n",
            "1261/1261 [==============================] - 6s 5ms/step - loss: 0.6057 - val_loss: 0.6173\n",
            "Epoch 5/5\n",
            "1261/1261 [==============================] - 6s 5ms/step - loss: 0.6060 - val_loss: 0.6169\n"
          ],
          "name": "stdout"
        }
      ]
    },
    {
      "cell_type": "markdown",
      "metadata": {
        "id": "RCfDCXySdJ-x"
      },
      "source": [
        "Plot training and validation loss"
      ]
    },
    {
      "cell_type": "code",
      "metadata": {
        "id": "aUe8TF8H7TYP",
        "outputId": "5245ebec-5e70-4b71-dc8f-d2baa6076a48",
        "colab": {
          "base_uri": "https://localhost:8080/",
          "height": 295
        }
      },
      "source": [
        "%matplotlib inline\n",
        "\n",
        "plt.plot(resultx.history[\"loss\"])\n",
        "plt.plot(resultx.history[\"val_loss\"])\n",
        "plt.title(\"Model Loss\")\n",
        "plt.ylabel(\"loss\")\n",
        "plt.xlabel(\"epoch\")\n",
        "plt.legend([\"train\", \"test\"], loc=\"upper left\")\n",
        "plt.show()"
      ],
      "execution_count": 33,
      "outputs": [
        {
          "output_type": "display_data",
          "data": {
            "image/png": "[encoded data removed]",
            "text/plain": [
              "<Figure size 432x288 with 1 Axes>"
            ]
          },
          "metadata": {
            "tags": [],
            "needs_background": "light"
          }
        }
      ]
    },
    {
      "cell_type": "markdown",
      "metadata": {
        "id": "uSzPhvy9eh-h"
      },
      "source": [
        "## Show top 10 movie recommendations to a user"
      ]
    },
    {
      "cell_type": "code",
      "metadata": {
        "id": "isB8j5FCexq1",
        "outputId": "0694ea2a-01b0-4e26-acc9-24c1b4afef49",
        "colab": {
          "base_uri": "https://localhost:8080/",
          "height": 204
        }
      },
      "source": [
        "movie_df = pd.read_csv(movie_dir / \"movies.csv\")\n",
        "movie_df.head()"
      ],
      "execution_count": 17,
      "outputs": [
        {
          "output_type": "execute_result",
          "data": {
            "text/html": [
              "<div>\n",
              "<style scoped>\n",
              "    .dataframe tbody tr th:only-of-type {\n",
              "        vertical-align: middle;\n",
              "    }\n",
              "\n",
              "    .dataframe tbody tr th {\n",
              "        vertical-align: top;\n",
              "    }\n",
              "\n",
              "    .dataframe thead th {\n",
              "        text-align: right;\n",
              "    }\n",
              "</style>\n",
              "<table border=\"1\" class=\"dataframe\">\n",
              "  <thead>\n",
              "    <tr style=\"text-align: right;\">\n",
              "      <th></th>\n",
              "      <th>movieId</th>\n",
              "      <th>title</th>\n",
              "      <th>genres</th>\n",
              "    </tr>\n",
              "  </thead>\n",
              "  <tbody>\n",
              "    <tr>\n",
              "      <th>0</th>\n",
              "      <td>1</td>\n",
              "      <td>Toy Story (1995)</td>\n",
              "      <td>Adventure|Animation|Children|Comedy|Fantasy</td>\n",
              "    </tr>\n",
              "    <tr>\n",
              "      <th>1</th>\n",
              "      <td>2</td>\n",
              "      <td>Jumanji (1995)</td>\n",
              "      <td>Adventure|Children|Fantasy</td>\n",
              "    </tr>\n",
              "    <tr>\n",
              "      <th>2</th>\n",
              "      <td>3</td>\n",
              "      <td>Grumpier Old Men (1995)</td>\n",
              "      <td>Comedy|Romance</td>\n",
              "    </tr>\n",
              "    <tr>\n",
              "      <th>3</th>\n",
              "      <td>4</td>\n",
              "      <td>Waiting to Exhale (1995)</td>\n",
              "      <td>Comedy|Drama|Romance</td>\n",
              "    </tr>\n",
              "    <tr>\n",
              "      <th>4</th>\n",
              "      <td>5</td>\n",
              "      <td>Father of the Bride Part II (1995)</td>\n",
              "      <td>Comedy</td>\n",
              "    </tr>\n",
              "  </tbody>\n",
              "</table>\n",
              "</div>"
            ],
            "text/plain": [
              "   movieId  ...                                       genres\n",
              "0        1  ...  Adventure|Animation|Children|Comedy|Fantasy\n",
              "1        2  ...                   Adventure|Children|Fantasy\n",
              "2        3  ...                               Comedy|Romance\n",
              "3        4  ...                         Comedy|Drama|Romance\n",
              "4        5  ...                                       Comedy\n",
              "\n",
              "[5 rows x 3 columns]"
            ]
          },
          "metadata": {
            "tags": []
          },
          "execution_count": 17
        }
      ]
    },
    {
      "cell_type": "code",
      "metadata": {
        "id": "Wyq1GBRlfDpr",
        "outputId": "f8f6bc80-1f5f-4692-cc85-6b453c3abb01",
        "colab": {
          "base_uri": "https://localhost:8080/",
          "height": 391
        }
      },
      "source": [
        "# get user and see the top recommendation\n",
        "user_id = df_data.userId.sample(1).iloc[0]\n",
        "movie_watched_by_user = df_data[df_data.userId == user_id]\n",
        "movies_not_watched = movie_df[\n",
        "                              ~movie_df[\"movieId\"].isin(movie_watched_by_user.movieId.values)\n",
        "                              ][\"movieId\"]\n",
        "movies_not_watched = list(set(movies_not_watched).intersection(set(movie2movie_encoded.keys())))\n",
        "movies_not_watched = [[movie2movie_encoded.get(x)] for x in movies_not_watched]\n",
        "\n",
        "user_encoder = user2user_encoded.get(user_id)\n",
        "user_movie_array = np.hstack(\n",
        "    ([[user_encoder]] * len(movies_not_watched), movies_not_watched)\n",
        ")\n",
        "ratings = model.predict(user_movie_array).flatten()\n",
        "top_ratings_indicies = ratings.argsort()[-10:][::-1]\n",
        "recommended_movies_ids = [\n",
        "      movie_encoded2movie.get(movies_not_watched[x][0]) for x in top_ratings_indicies\n",
        "]\n",
        "\n",
        "print(\"Showing recommendations for user: {}\".format(user_id))\n",
        "print(\"+++++\" * 9)\n",
        "print(\"Movies with hight ratings from user\")\n",
        "print(\"-----\" * 9)\n",
        "top_movies_user = (\n",
        "    movie_watched_by_user.sort_values(by=\"rating\", ascending=False).head(5).movieId.values\n",
        ")\n",
        "\n",
        "movie_df_rows = movie_df[movie_df[\"movieId\"].isin(top_movies_user)]\n",
        "for row in movie_df_rows.itertuples():\n",
        "    print(row.title, \" : \", row.genres)\n",
        "\n",
        "print(\"-----\" * 9)\n",
        "print(\"Top 10 movie recommendations\")\n",
        "print(\"-----\" * 9)\n",
        "recommended_movies = movie_df[movie_df[\"movieId\"].isin(recommended_movies_ids)]\n",
        "for row in recommended_movies.itertuples():\n",
        "    print(row.title, \" : \", row.genres)"
      ],
      "execution_count": 34,
      "outputs": [
        {
          "output_type": "stream",
          "text": [
            "Showing recommendations for user: 274\n",
            "+++++++++++++++++++++++++++++++++++++++++++++\n",
            "Movies with hight ratings from user\n",
            "---------------------------------------------\n",
            "American Beauty (1999)  :  Drama|Romance\n",
            "American Psycho (2000)  :  Crime|Horror|Mystery|Thriller\n",
            "Kill Bill: Vol. 1 (2003)  :  Action|Crime|Thriller\n",
            "Kill Bill: Vol. 2 (2004)  :  Action|Drama|Thriller\n",
            "Hot Fuzz (2007)  :  Action|Comedy|Crime|Mystery\n",
            "---------------------------------------------\n",
            "Top 10 movie recommendations\n",
            "---------------------------------------------\n",
            "Lamerica (1994)  :  Adventure|Drama\n",
            "Heidi Fleiss: Hollywood Madam (1995)  :  Documentary\n",
            "Children of the Corn IV: The Gathering (1996)  :  Horror\n",
            "Autumn Sonata (Höstsonaten) (1978)  :  Drama\n",
            "Swept Away (Travolti da un insolito destino nell'azzurro mare d'Agosto) (1975)  :  Comedy|Drama\n",
            "Trial, The (Procès, Le) (1962)  :  Drama\n",
            "Hunger (2008)  :  Drama\n",
            "Enter the Void (2009)  :  Drama\n",
            "Lincoln (2012)  :  Drama|War\n",
            "Three Billboards Outside Ebbing, Missouri (2017)  :  Crime|Drama\n"
          ],
          "name": "stdout"
        }
      ]
    }
  ]
}